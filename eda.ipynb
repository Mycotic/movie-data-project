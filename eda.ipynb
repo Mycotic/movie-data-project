{
 "cells": [
  {
   "cell_type": "code",
   "execution_count": 1,
   "metadata": {},
   "outputs": [],
   "source": [
    "import pandas as pd\n",
    "import numpy as np\n",
    "import matplotlib.pyplot as plt\n",
    "\n",
    "movies = pd.read_csv(\"zippedData/movies-genre-onehot.csv\")\n",
    "movies.drop(columns=[movies.columns[0]], inplace=True)\n",
    "genres = ['Action',\n",
    " 'Adventure',\n",
    " 'Fantasy',\n",
    " 'Sci-Fi',\n",
    " 'Mystery',\n",
    " 'Thriller',\n",
    " 'Comedy',\n",
    " 'Horror',\n",
    " 'Drama',\n",
    " 'Romance',\n",
    " 'Music',\n",
    " 'Musical',\n",
    " 'Sport',\n",
    " 'Animation',\n",
    " 'War',\n",
    " 'Biography',\n",
    " 'Crime',\n",
    " 'Family',\n",
    " 'Western',\n",
    " 'Documentary',\n",
    " 'History',\n",
    " 'Film-Noir',\n",
    " 'Short',\n",
    " 'Adult',\n",
    " 'News',\n",
    " 'Talk-Show',\n",
    " 'Reality-TV']"
   ]
  },
  {
   "cell_type": "code",
   "execution_count": 2,
   "metadata": {},
   "outputs": [
    {
     "data": {
      "text/html": [
       "<div>\n",
       "<style scoped>\n",
       "    .dataframe tbody tr th:only-of-type {\n",
       "        vertical-align: middle;\n",
       "    }\n",
       "\n",
       "    .dataframe tbody tr th {\n",
       "        vertical-align: top;\n",
       "    }\n",
       "\n",
       "    .dataframe thead th {\n",
       "        text-align: right;\n",
       "    }\n",
       "</style>\n",
       "<table border=\"1\" class=\"dataframe\">\n",
       "  <thead>\n",
       "    <tr style=\"text-align: right;\">\n",
       "      <th></th>\n",
       "      <th>title</th>\n",
       "      <th>domestic</th>\n",
       "      <th>international</th>\n",
       "      <th>worldwide</th>\n",
       "      <th>budget</th>\n",
       "      <th>year</th>\n",
       "      <th>reference</th>\n",
       "      <th>Action</th>\n",
       "      <th>Adventure</th>\n",
       "      <th>Fantasy</th>\n",
       "      <th>...</th>\n",
       "      <th>Family</th>\n",
       "      <th>Western</th>\n",
       "      <th>Documentary</th>\n",
       "      <th>History</th>\n",
       "      <th>Film-Noir</th>\n",
       "      <th>Short</th>\n",
       "      <th>Adult</th>\n",
       "      <th>News</th>\n",
       "      <th>Talk-Show</th>\n",
       "      <th>Reality-TV</th>\n",
       "    </tr>\n",
       "  </thead>\n",
       "  <tbody>\n",
       "    <tr>\n",
       "      <th>0</th>\n",
       "      <td>Star Wars: Episode IV - A New Hope</td>\n",
       "      <td>307263857</td>\n",
       "      <td>195751992</td>\n",
       "      <td>503015849</td>\n",
       "      <td>11000000.0</td>\n",
       "      <td>1977</td>\n",
       "      <td>/release/rl2759034369/?ref_=bo_yld_table_1</td>\n",
       "      <td>1</td>\n",
       "      <td>1</td>\n",
       "      <td>1</td>\n",
       "      <td>...</td>\n",
       "      <td>0</td>\n",
       "      <td>0</td>\n",
       "      <td>0</td>\n",
       "      <td>0</td>\n",
       "      <td>0</td>\n",
       "      <td>0</td>\n",
       "      <td>0</td>\n",
       "      <td>0</td>\n",
       "      <td>0</td>\n",
       "      <td>0</td>\n",
       "    </tr>\n",
       "    <tr>\n",
       "      <th>1</th>\n",
       "      <td>The Deep</td>\n",
       "      <td>47346365</td>\n",
       "      <td>0</td>\n",
       "      <td>47346365</td>\n",
       "      <td>NaN</td>\n",
       "      <td>1977</td>\n",
       "      <td>/release/rl3561784833/?ref_=bo_yld_table_2</td>\n",
       "      <td>0</td>\n",
       "      <td>1</td>\n",
       "      <td>0</td>\n",
       "      <td>...</td>\n",
       "      <td>0</td>\n",
       "      <td>0</td>\n",
       "      <td>0</td>\n",
       "      <td>0</td>\n",
       "      <td>0</td>\n",
       "      <td>0</td>\n",
       "      <td>0</td>\n",
       "      <td>0</td>\n",
       "      <td>0</td>\n",
       "      <td>0</td>\n",
       "    </tr>\n",
       "    <tr>\n",
       "      <th>2</th>\n",
       "      <td>The Spy Who Loved Me</td>\n",
       "      <td>46838673</td>\n",
       "      <td>0</td>\n",
       "      <td>46838673</td>\n",
       "      <td>NaN</td>\n",
       "      <td>1977</td>\n",
       "      <td>/release/rl2004059649/?ref_=bo_yld_table_3</td>\n",
       "      <td>1</td>\n",
       "      <td>1</td>\n",
       "      <td>0</td>\n",
       "      <td>...</td>\n",
       "      <td>0</td>\n",
       "      <td>0</td>\n",
       "      <td>0</td>\n",
       "      <td>0</td>\n",
       "      <td>0</td>\n",
       "      <td>0</td>\n",
       "      <td>0</td>\n",
       "      <td>0</td>\n",
       "      <td>0</td>\n",
       "      <td>0</td>\n",
       "    </tr>\n",
       "    <tr>\n",
       "      <th>3</th>\n",
       "      <td>Oh, God!</td>\n",
       "      <td>41687243</td>\n",
       "      <td>0</td>\n",
       "      <td>41687243</td>\n",
       "      <td>NaN</td>\n",
       "      <td>1977</td>\n",
       "      <td>/release/rl2137425409/?ref_=bo_yld_table_4</td>\n",
       "      <td>0</td>\n",
       "      <td>0</td>\n",
       "      <td>1</td>\n",
       "      <td>...</td>\n",
       "      <td>0</td>\n",
       "      <td>0</td>\n",
       "      <td>0</td>\n",
       "      <td>0</td>\n",
       "      <td>0</td>\n",
       "      <td>0</td>\n",
       "      <td>0</td>\n",
       "      <td>0</td>\n",
       "      <td>0</td>\n",
       "      <td>0</td>\n",
       "    </tr>\n",
       "    <tr>\n",
       "      <th>4</th>\n",
       "      <td>Exorcist II: The Heretic</td>\n",
       "      <td>30749142</td>\n",
       "      <td>0</td>\n",
       "      <td>30749142</td>\n",
       "      <td>NaN</td>\n",
       "      <td>1977</td>\n",
       "      <td>/release/rl1582335489/?ref_=bo_yld_table_5</td>\n",
       "      <td>0</td>\n",
       "      <td>0</td>\n",
       "      <td>0</td>\n",
       "      <td>...</td>\n",
       "      <td>0</td>\n",
       "      <td>0</td>\n",
       "      <td>0</td>\n",
       "      <td>0</td>\n",
       "      <td>0</td>\n",
       "      <td>0</td>\n",
       "      <td>0</td>\n",
       "      <td>0</td>\n",
       "      <td>0</td>\n",
       "      <td>0</td>\n",
       "    </tr>\n",
       "    <tr>\n",
       "      <th>...</th>\n",
       "      <td>...</td>\n",
       "      <td>...</td>\n",
       "      <td>...</td>\n",
       "      <td>...</td>\n",
       "      <td>...</td>\n",
       "      <td>...</td>\n",
       "      <td>...</td>\n",
       "      <td>...</td>\n",
       "      <td>...</td>\n",
       "      <td>...</td>\n",
       "      <td>...</td>\n",
       "      <td>...</td>\n",
       "      <td>...</td>\n",
       "      <td>...</td>\n",
       "      <td>...</td>\n",
       "      <td>...</td>\n",
       "      <td>...</td>\n",
       "      <td>...</td>\n",
       "      <td>...</td>\n",
       "      <td>...</td>\n",
       "      <td>...</td>\n",
       "    </tr>\n",
       "    <tr>\n",
       "      <th>19657</th>\n",
       "      <td>I Do Not Care If We Go Down in History as Barb...</td>\n",
       "      <td>11307</td>\n",
       "      <td>27864</td>\n",
       "      <td>39171</td>\n",
       "      <td>NaN</td>\n",
       "      <td>2020</td>\n",
       "      <td>/release/rl3876095489/?ref_=bo_yld_table_302</td>\n",
       "      <td>0</td>\n",
       "      <td>0</td>\n",
       "      <td>0</td>\n",
       "      <td>...</td>\n",
       "      <td>0</td>\n",
       "      <td>0</td>\n",
       "      <td>0</td>\n",
       "      <td>0</td>\n",
       "      <td>0</td>\n",
       "      <td>0</td>\n",
       "      <td>0</td>\n",
       "      <td>0</td>\n",
       "      <td>0</td>\n",
       "      <td>0</td>\n",
       "    </tr>\n",
       "    <tr>\n",
       "      <th>19658</th>\n",
       "      <td>The Load</td>\n",
       "      <td>28410</td>\n",
       "      <td>0</td>\n",
       "      <td>28410</td>\n",
       "      <td>NaN</td>\n",
       "      <td>2020</td>\n",
       "      <td>/release/rl1460372993/?ref_=bo_yld_table_303</td>\n",
       "      <td>0</td>\n",
       "      <td>0</td>\n",
       "      <td>0</td>\n",
       "      <td>...</td>\n",
       "      <td>0</td>\n",
       "      <td>0</td>\n",
       "      <td>0</td>\n",
       "      <td>0</td>\n",
       "      <td>0</td>\n",
       "      <td>0</td>\n",
       "      <td>0</td>\n",
       "      <td>0</td>\n",
       "      <td>0</td>\n",
       "      <td>0</td>\n",
       "    </tr>\n",
       "    <tr>\n",
       "      <th>19659</th>\n",
       "      <td>Asako I &amp; II</td>\n",
       "      <td>25559</td>\n",
       "      <td>601543</td>\n",
       "      <td>627102</td>\n",
       "      <td>NaN</td>\n",
       "      <td>2020</td>\n",
       "      <td>/release/rl1359513089/?ref_=bo_yld_table_304</td>\n",
       "      <td>0</td>\n",
       "      <td>0</td>\n",
       "      <td>0</td>\n",
       "      <td>...</td>\n",
       "      <td>0</td>\n",
       "      <td>0</td>\n",
       "      <td>0</td>\n",
       "      <td>0</td>\n",
       "      <td>0</td>\n",
       "      <td>0</td>\n",
       "      <td>0</td>\n",
       "      <td>0</td>\n",
       "      <td>0</td>\n",
       "      <td>0</td>\n",
       "    </tr>\n",
       "    <tr>\n",
       "      <th>19660</th>\n",
       "      <td>Chained for Life</td>\n",
       "      <td>17431</td>\n",
       "      <td>0</td>\n",
       "      <td>17431</td>\n",
       "      <td>NaN</td>\n",
       "      <td>2020</td>\n",
       "      <td>/release/rl1292600833/?ref_=bo_yld_table_305</td>\n",
       "      <td>0</td>\n",
       "      <td>0</td>\n",
       "      <td>0</td>\n",
       "      <td>...</td>\n",
       "      <td>0</td>\n",
       "      <td>0</td>\n",
       "      <td>0</td>\n",
       "      <td>0</td>\n",
       "      <td>0</td>\n",
       "      <td>0</td>\n",
       "      <td>0</td>\n",
       "      <td>0</td>\n",
       "      <td>0</td>\n",
       "      <td>0</td>\n",
       "    </tr>\n",
       "    <tr>\n",
       "      <th>19661</th>\n",
       "      <td>Shooting the Mafia</td>\n",
       "      <td>10881</td>\n",
       "      <td>21161</td>\n",
       "      <td>32042</td>\n",
       "      <td>NaN</td>\n",
       "      <td>2020</td>\n",
       "      <td>/release/rl2366342657/?ref_=bo_yld_table_306</td>\n",
       "      <td>0</td>\n",
       "      <td>0</td>\n",
       "      <td>0</td>\n",
       "      <td>...</td>\n",
       "      <td>0</td>\n",
       "      <td>0</td>\n",
       "      <td>1</td>\n",
       "      <td>0</td>\n",
       "      <td>0</td>\n",
       "      <td>0</td>\n",
       "      <td>0</td>\n",
       "      <td>0</td>\n",
       "      <td>0</td>\n",
       "      <td>0</td>\n",
       "    </tr>\n",
       "  </tbody>\n",
       "</table>\n",
       "<p>19662 rows × 34 columns</p>\n",
       "</div>"
      ],
      "text/plain": [
       "                                                   title   domestic  \\\n",
       "0                     Star Wars: Episode IV - A New Hope  307263857   \n",
       "1                                               The Deep   47346365   \n",
       "2                                   The Spy Who Loved Me   46838673   \n",
       "3                                               Oh, God!   41687243   \n",
       "4                               Exorcist II: The Heretic   30749142   \n",
       "...                                                  ...        ...   \n",
       "19657  I Do Not Care If We Go Down in History as Barb...      11307   \n",
       "19658                                           The Load      28410   \n",
       "19659                                       Asako I & II      25559   \n",
       "19660                                   Chained for Life      17431   \n",
       "19661                                 Shooting the Mafia      10881   \n",
       "\n",
       "       international  worldwide      budget  year  \\\n",
       "0          195751992  503015849  11000000.0  1977   \n",
       "1                  0   47346365         NaN  1977   \n",
       "2                  0   46838673         NaN  1977   \n",
       "3                  0   41687243         NaN  1977   \n",
       "4                  0   30749142         NaN  1977   \n",
       "...              ...        ...         ...   ...   \n",
       "19657          27864      39171         NaN  2020   \n",
       "19658              0      28410         NaN  2020   \n",
       "19659         601543     627102         NaN  2020   \n",
       "19660              0      17431         NaN  2020   \n",
       "19661          21161      32042         NaN  2020   \n",
       "\n",
       "                                          reference  Action  Adventure  \\\n",
       "0        /release/rl2759034369/?ref_=bo_yld_table_1       1          1   \n",
       "1        /release/rl3561784833/?ref_=bo_yld_table_2       0          1   \n",
       "2        /release/rl2004059649/?ref_=bo_yld_table_3       1          1   \n",
       "3        /release/rl2137425409/?ref_=bo_yld_table_4       0          0   \n",
       "4        /release/rl1582335489/?ref_=bo_yld_table_5       0          0   \n",
       "...                                             ...     ...        ...   \n",
       "19657  /release/rl3876095489/?ref_=bo_yld_table_302       0          0   \n",
       "19658  /release/rl1460372993/?ref_=bo_yld_table_303       0          0   \n",
       "19659  /release/rl1359513089/?ref_=bo_yld_table_304       0          0   \n",
       "19660  /release/rl1292600833/?ref_=bo_yld_table_305       0          0   \n",
       "19661  /release/rl2366342657/?ref_=bo_yld_table_306       0          0   \n",
       "\n",
       "       Fantasy  ...  Family  Western  Documentary  History  Film-Noir  Short  \\\n",
       "0            1  ...       0        0            0        0          0      0   \n",
       "1            0  ...       0        0            0        0          0      0   \n",
       "2            0  ...       0        0            0        0          0      0   \n",
       "3            1  ...       0        0            0        0          0      0   \n",
       "4            0  ...       0        0            0        0          0      0   \n",
       "...        ...  ...     ...      ...          ...      ...        ...    ...   \n",
       "19657        0  ...       0        0            0        0          0      0   \n",
       "19658        0  ...       0        0            0        0          0      0   \n",
       "19659        0  ...       0        0            0        0          0      0   \n",
       "19660        0  ...       0        0            0        0          0      0   \n",
       "19661        0  ...       0        0            1        0          0      0   \n",
       "\n",
       "       Adult  News  Talk-Show  Reality-TV  \n",
       "0          0     0          0           0  \n",
       "1          0     0          0           0  \n",
       "2          0     0          0           0  \n",
       "3          0     0          0           0  \n",
       "4          0     0          0           0  \n",
       "...      ...   ...        ...         ...  \n",
       "19657      0     0          0           0  \n",
       "19658      0     0          0           0  \n",
       "19659      0     0          0           0  \n",
       "19660      0     0          0           0  \n",
       "19661      0     0          0           0  \n",
       "\n",
       "[19662 rows x 34 columns]"
      ]
     },
     "execution_count": 2,
     "metadata": {},
     "output_type": "execute_result"
    }
   ],
   "source": [
    "movies#.info()"
   ]
  },
  {
   "cell_type": "code",
   "execution_count": 3,
   "metadata": {},
   "outputs": [
    {
     "data": {
      "text/plain": [
       "Adventure    0.335359\n",
       "Name: domestic, dtype: float64"
      ]
     },
     "execution_count": 3,
     "metadata": {},
     "output_type": "execute_result"
    }
   ],
   "source": [
    "movies.corr()\n",
    "\"\"\"corr_di = {genre:movies.corr()[\"domestic\"][genre] for genre in genres}\n",
    "print(corr_di)\n",
    "corr_df = pd.DataFrame.from_dict(corr_di)\n",
    "print(corr_df)\n",
    "print(np.mean(list(corr_di.values())))\n",
    "maxcorr = max(list(corr_di.values()))\n",
    "\n",
    "#print(movies.corr()[\"domestic\"][\"Fantasy\"])\n",
    "#print(movies.corr()[\"international\"][\"Fantasy\"])\"\"\"\n",
    "dom_row = movies.corr()[\"domestic\"][[genre for genre in genres]]\n",
    "dom_row[dom_row.max() == dom_row]"
   ]
  },
  {
   "cell_type": "code",
   "execution_count": 4,
   "metadata": {},
   "outputs": [],
   "source": [
    "budget_df = movies[~np.isnan(movies[\"budget\"])].copy()\n",
    "budget_df[\"profit\"] = budget_df[\"worldwide\"] - budget_df[\"budget\"]"
   ]
  },
  {
   "cell_type": "code",
   "execution_count": 35,
   "metadata": {},
   "outputs": [
    {
     "data": {
      "text/plain": [
       "62     0\n",
       "73     0\n",
       "90     0\n",
       "98     1\n",
       "118    0\n",
       "Name: Comedy, dtype: int64"
      ]
     },
     "metadata": {},
     "output_type": "display_data"
    },
    {
     "data": {
      "text/plain": [
       "130    0\n",
       "143    0\n",
       "164    0\n",
       "Name: Comedy, dtype: int64"
      ]
     },
     "execution_count": 35,
     "metadata": {},
     "output_type": "execute_result"
    }
   ],
   "source": [
    "display(budget_df[budget_df[\"year\"]==1980][\"Comedy\"])\n",
    "budget_df[budget_df[\"year\"]==1981][\"Comedy\"]"
   ]
  },
  {
   "cell_type": "code",
   "execution_count": 6,
   "metadata": {},
   "outputs": [],
   "source": [
    "corr_df = budget_df.corr()[[\"domestic\",\"worldwide\",\"international\"]].loc[genres]\n",
    "corr_df = corr_df[~np.isnan(corr_df[\"domestic\"])]\n",
    "corr_df.sort_values(\"domestic\",ascending=False,inplace=True)"
   ]
  },
  {
   "cell_type": "code",
   "execution_count": 7,
   "metadata": {},
   "outputs": [
    {
     "data": {
      "text/plain": [
       "<BarContainer object of 23 artists>"
      ]
     },
     "execution_count": 7,
     "metadata": {},
     "output_type": "execute_result"
    },
    {
     "data": {
      "image/png": "[encoded data removed]",
      "text/plain": [
       "<Figure size 2016x360 with 1 Axes>"
      ]
     },
     "metadata": {
      "needs_background": "light"
     },
     "output_type": "display_data"
    }
   ],
   "source": [
    "fig, ax = plt.subplots(figsize=(28,5))\n",
    "#plt.figure(figsize=(25,5))\n",
    "ax.set_title(\"Correlation Between Genres and Domestic Box Office\")\n",
    "ax.set_xlabel(\"Genres\")\n",
    "ax.set_ylabel(\"correlation\")\n",
    "ax.bar(corr_df.index,corr_df[\"domestic\"])"
   ]
  },
  {
   "cell_type": "code",
   "execution_count": 8,
   "metadata": {},
   "outputs": [
    {
     "data": {
      "text/plain": [
       "<BarContainer object of 23 artists>"
      ]
     },
     "execution_count": 8,
     "metadata": {},
     "output_type": "execute_result"
    },
    {
     "data": {
      "image/png": "[encoded data removed]",
      "text/plain": [
       "<Figure size 2016x360 with 1 Axes>"
      ]
     },
     "metadata": {
      "needs_background": "light"
     },
     "output_type": "display_data"
    }
   ],
   "source": [
    "corr_df.sort_values(\"international\",ascending=False,inplace=True)\n",
    "fig, ax = plt.subplots(figsize=(28,5))\n",
    "#plt.figure(figsize=(25,5))\n",
    "ax.set_title(\"Correlation Between Genres and International Box Office\")\n",
    "ax.set_xlabel(\"Genres\")\n",
    "ax.set_ylabel(\"correlation\")\n",
    "ax.bar(corr_df.index,corr_df[\"international\"])"
   ]
  },
  {
   "cell_type": "code",
   "execution_count": 47,
   "metadata": {},
   "outputs": [
    {
     "data": {
      "text/html": [
       "<div>\n",
       "<style scoped>\n",
       "    .dataframe tbody tr th:only-of-type {\n",
       "        vertical-align: middle;\n",
       "    }\n",
       "\n",
       "    .dataframe tbody tr th {\n",
       "        vertical-align: top;\n",
       "    }\n",
       "\n",
       "    .dataframe thead th {\n",
       "        text-align: right;\n",
       "    }\n",
       "</style>\n",
       "<table border=\"1\" class=\"dataframe\">\n",
       "  <thead>\n",
       "    <tr style=\"text-align: right;\">\n",
       "      <th></th>\n",
       "      <th>year</th>\n",
       "      <th>corr</th>\n",
       "    </tr>\n",
       "  </thead>\n",
       "  <tbody>\n",
       "    <tr>\n",
       "      <th>year</th>\n",
       "      <td>1.000000</td>\n",
       "      <td>0.042332</td>\n",
       "    </tr>\n",
       "    <tr>\n",
       "      <th>corr</th>\n",
       "      <td>0.042332</td>\n",
       "      <td>1.000000</td>\n",
       "    </tr>\n",
       "  </tbody>\n",
       "</table>\n",
       "</div>"
      ],
      "text/plain": [
       "          year      corr\n",
       "year  1.000000  0.042332\n",
       "corr  0.042332  1.000000"
      ]
     },
     "execution_count": 47,
     "metadata": {},
     "output_type": "execute_result"
    }
   ],
   "source": [
    "comedy_df = budget_df[budget_df[\"Comedy\"] == 1].copy()\n",
    "comedy_corr = comedy_df.groupby([\"year\"])[[\"budget\",\"profit\"]].corr().iloc[0::2,-1]#.corr()#[[\"profit\"]]\n",
    "#comedy_corr = comedy_df.corr()[[\"budget\",\"profit\"]]\n",
    "comedy_corr = comedy_corr.dropna()#inplace=True)\n",
    "comedy_corr.index = [index[0] for index in comedy_corr.index]\n"
   ]
  },
  {
   "cell_type": "code",
   "execution_count": 58,
   "metadata": {},
   "outputs": [
    {
     "data": {
      "text/plain": [
       "1998    0.162838\n",
       "1999    0.170104\n",
       "2000    0.320453\n",
       "2001    0.376869\n",
       "2002    0.381478\n",
       "2003    0.311415\n",
       "2004    0.415975\n",
       "2005    0.323336\n",
       "2006    0.209400\n",
       "2007    0.276028\n",
       "2008    0.261926\n",
       "2009    0.320030\n",
       "2010    0.537269\n",
       "2011    0.471900\n",
       "2012    0.369788\n",
       "2013    0.356322\n",
       "2014    0.632829\n",
       "2015    0.600351\n",
       "2016    0.260319\n",
       "2017    0.408182\n",
       "2018    0.495889\n",
       "2019    0.629695\n",
       "Name: profit, dtype: float64"
      ]
     },
     "execution_count": 58,
     "metadata": {},
     "output_type": "execute_result"
    }
   ],
   "source": [
    "comedy_count = comedy_df.groupby([\"year\"]).count()[\"title\"]\n",
    "robust_corr = comedy_corr[comedy_count>=43]\n",
    "robust_corr"
   ]
  },
  {
   "cell_type": "code",
   "execution_count": 70,
   "metadata": {},
   "outputs": [
    {
     "data": {
      "text/html": [
       "<div>\n",
       "<style scoped>\n",
       "    .dataframe tbody tr th:only-of-type {\n",
       "        vertical-align: middle;\n",
       "    }\n",
       "\n",
       "    .dataframe tbody tr th {\n",
       "        vertical-align: top;\n",
       "    }\n",
       "\n",
       "    .dataframe thead th {\n",
       "        text-align: right;\n",
       "    }\n",
       "</style>\n",
       "<table border=\"1\" class=\"dataframe\">\n",
       "  <thead>\n",
       "    <tr style=\"text-align: right;\">\n",
       "      <th></th>\n",
       "      <th>year</th>\n",
       "      <th>budget profit corr</th>\n",
       "    </tr>\n",
       "  </thead>\n",
       "  <tbody>\n",
       "    <tr>\n",
       "      <th>year</th>\n",
       "      <td>1.000000</td>\n",
       "      <td>0.640469</td>\n",
       "    </tr>\n",
       "    <tr>\n",
       "      <th>budget profit corr</th>\n",
       "      <td>0.640469</td>\n",
       "      <td>1.000000</td>\n",
       "    </tr>\n",
       "  </tbody>\n",
       "</table>\n",
       "</div>"
      ],
      "text/plain": [
       "                        year  budget profit corr\n",
       "year                1.000000            0.640469\n",
       "budget profit corr  0.640469            1.000000"
      ]
     },
     "execution_count": 70,
     "metadata": {},
     "output_type": "execute_result"
    }
   ],
   "source": [
    "corr2 = pd.DataFrame({'year':robust_corr.index, 'budget profit corr':robust_corr.values})\n",
    "corr2.corr()"
   ]
  },
  {
   "cell_type": "code",
   "execution_count": 69,
   "metadata": {},
   "outputs": [
    {
     "data": {
      "image/png": "[encoded data removed]",
      "text/plain": [
       "<Figure size 720x432 with 1 Axes>"
      ]
     },
     "metadata": {
      "needs_background": "light"
     },
     "output_type": "display_data"
    }
   ],
   "source": [
    "fig, ax = plt.subplots(figsize=(10,6))\n",
    "#plt.figure(figsize=(25,5))\n",
    "ax.set_title(\"Increase in Correlation between Budget and Profit by Year for Comedy Movies\")\n",
    "ax.set_xlabel(\"Year\")\n",
    "ax.set_ylabel(\"Correlation\")\n",
    "ax.plot(robust_corr.index,robust_corr)\n",
    "plt.savefig(\"figures/comedy-corr.png\")"
   ]
  },
  {
   "cell_type": "code",
   "execution_count": 80,
   "metadata": {},
   "outputs": [
    {
     "name": "stdout",
     "output_type": "stream",
     "text": [
      "0.5257616122799778\n"
     ]
    },
    {
     "data": {
      "text/plain": [
       "1991    0.312078\n",
       "1994    0.212972\n",
       "1995    0.219868\n",
       "1996    0.503053\n",
       "1997    0.546553\n",
       "1998    0.507234\n",
       "1999    0.226077\n",
       "2000    0.386319\n",
       "2001    0.411087\n",
       "2002    0.461606\n",
       "2003    0.431500\n",
       "2004    0.481133\n",
       "2005    0.502940\n",
       "2006    0.538094\n",
       "2007    0.622854\n",
       "2008    0.547728\n",
       "2009    0.532000\n",
       "2010    0.505430\n",
       "2011    0.553679\n",
       "2012    0.517601\n",
       "2013    0.535491\n",
       "2014    0.672148\n",
       "2015    0.680694\n",
       "2016    0.615573\n",
       "2017    0.556155\n",
       "2018    0.556994\n",
       "2019    0.672665\n",
       "2020    0.386753\n",
       "Name: profit, dtype: float64"
      ]
     },
     "execution_count": 80,
     "metadata": {},
     "output_type": "execute_result"
    }
   ],
   "source": [
    "print(budget_df.corr()[\"budget\"][\"profit\"])\n",
    "year_corr = budget_df.groupby(\"year\")[[\"budget\",\"profit\"]].corr().iloc[0::2,-1]\n",
    "year_corr.dropna()\n",
    "year_corr.index = [index[0] for index in year_corr.index]\n",
    "year_count = budget_df.groupby([\"year\"]).count()[\"title\"]\n",
    "year_corr = year_corr[year_count>=43]\n",
    "year_corr"
   ]
  },
  {
   "cell_type": "code",
   "execution_count": 82,
   "metadata": {},
   "outputs": [
    {
     "data": {
      "text/html": [
       "<div>\n",
       "<style scoped>\n",
       "    .dataframe tbody tr th:only-of-type {\n",
       "        vertical-align: middle;\n",
       "    }\n",
       "\n",
       "    .dataframe tbody tr th {\n",
       "        vertical-align: top;\n",
       "    }\n",
       "\n",
       "    .dataframe thead th {\n",
       "        text-align: right;\n",
       "    }\n",
       "</style>\n",
       "<table border=\"1\" class=\"dataframe\">\n",
       "  <thead>\n",
       "    <tr style=\"text-align: right;\">\n",
       "      <th></th>\n",
       "      <th>year</th>\n",
       "      <th>budget profit corr</th>\n",
       "    </tr>\n",
       "  </thead>\n",
       "  <tbody>\n",
       "    <tr>\n",
       "      <th>year</th>\n",
       "      <td>1.000000</td>\n",
       "      <td>0.671614</td>\n",
       "    </tr>\n",
       "    <tr>\n",
       "      <th>budget profit corr</th>\n",
       "      <td>0.671614</td>\n",
       "      <td>1.000000</td>\n",
       "    </tr>\n",
       "  </tbody>\n",
       "</table>\n",
       "</div>"
      ],
      "text/plain": [
       "                        year  budget profit corr\n",
       "year                1.000000            0.671614\n",
       "budget profit corr  0.671614            1.000000"
      ]
     },
     "execution_count": 82,
     "metadata": {},
     "output_type": "execute_result"
    }
   ],
   "source": [
    "year_corr2 = pd.DataFrame({'year':year_corr.index, 'budget profit corr':year_corr.values})\n",
    "year_corr2.corr()"
   ]
  },
  {
   "cell_type": "code",
   "execution_count": 83,
   "metadata": {},
   "outputs": [
    {
     "data": {
      "text/plain": [
       "[<matplotlib.lines.Line2D at 0x124dfa690>]"
      ]
     },
     "execution_count": 83,
     "metadata": {},
     "output_type": "execute_result"
    },
    {
     "data": {
      "image/png": "[encoded data removed]",
      "text/plain": [
       "<Figure size 720x432 with 1 Axes>"
      ]
     },
     "metadata": {
      "needs_background": "light"
     },
     "output_type": "display_data"
    }
   ],
   "source": [
    "fig, ax = plt.subplots(figsize=(10,6))\n",
    "#plt.figure(figsize=(25,5))\n",
    "ax.set_title(\"Increase in Correlation between Budget and Profit by Year for All Movies\")\n",
    "ax.set_xlabel(\"Year\")\n",
    "ax.set_ylabel(\"Correlation\")\n",
    "ax.plot(year_corr.index,year_corr)"
   ]
  },
  {
   "cell_type": "code",
   "execution_count": null,
   "metadata": {},
   "outputs": [],
   "source": []
  }
 ],
 "metadata": {
  "kernelspec": {
   "display_name": "Python 3",
   "language": "python",
   "name": "python3"
  },
  "language_info": {
   "codemirror_mode": {
    "name": "ipython",
    "version": 3
   },
   "file_extension": ".py",
   "mimetype": "text/x-python",
   "name": "python",
   "nbconvert_exporter": "python",
   "pygments_lexer": "ipython3",
   "version": "3.7.6"
  }
 },
 "nbformat": 4,
 "nbformat_minor": 4
}
