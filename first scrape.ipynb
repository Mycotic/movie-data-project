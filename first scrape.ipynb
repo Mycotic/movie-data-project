{
 "cells": [
  {
   "cell_type": "code",
   "execution_count": 1,
   "metadata": {},
   "outputs": [],
   "source": [
    "import requests\n",
    "import sys\n",
    "import numpy as np\n",
    "import time\n",
    "import pandas as pd\n",
    "from bs4 import BeautifulSoup\n",
    "#time.sleep(1)"
   ]
  },
  {
   "cell_type": "code",
   "execution_count": null,
   "metadata": {},
   "outputs": [],
   "source": [
    "def get_links(year):\n",
    "    \"\"\"returns a list of link suffixes that connect to every movie in the\n",
    "    boxofficemojo page for the given year\"\"\"\n",
    "    page = requests.get(\"https://www.boxofficemojo.com/year/{}/\".format(year))\n",
    "    soup = BeautifulSoup(page.content, 'html.parser')\n",
    "    if page.status_code >=400:\n",
    "        return [page.status_code,\"https://www.boxofficemojo.com/year/{}/\".format(year)]\n",
    "    links = soup.select(\".a-text-left.mojo-field-type-release.mojo-cell-wide a\")\n",
    "    return links\n"
   ]
  },
  {
   "cell_type": "code",
   "execution_count": null,
   "metadata": {},
   "outputs": [],
   "source": [
    "def cash_str_to_int(string):\n",
    "    #takes string containing a number with a symbol at the front and returns the int\n",
    "    return int(string[1:].replace(\",\",\"\"))"
   ]
  },
  {
   "cell_type": "code",
   "execution_count": null,
   "metadata": {},
   "outputs": [],
   "source": [
    "def make_movie_dict(links):\n",
    "    \"\"\"accepts a list of link suffixes and returns a dictionary that\n",
    "    has a key for each link. The value of each item is also a dictionary\n",
    "    containing keys\n",
    "                    domestic, international, worldwide, budget, genres, and title,\n",
    "    with types      float     float          float      float   list[strs]   str\n",
    "    \n",
    "    if an int is missing its replaced with none and if genres is missing it is\n",
    "    replaced with an empty list\n",
    "    \"\"\"\n",
    "    movie_dict = {}\n",
    "    for link in links:\n",
    "        time.sleep(np.random.random())\n",
    "        current = requests.get(\"https://www.boxofficemojo.com\" + link[\"href\"])\n",
    "        currysoup = BeautifulSoup(current.content, \"html.parser\")\n",
    "        title = currysoup.find(\"h1\").text\n",
    "        print(\"scraping \", title)\n",
    "        try:\n",
    "            budget = cash_str_to_int(currysoup.find(text=\"Budget\").next_element.text)\n",
    "        except AttributeError:\n",
    "            budget = None\n",
    "        grossli = currysoup.select(\".a-section.a-spacing-none.mojo-performance-summary-table .a-section.a-spacing-none\")\n",
    "        grosses = []\n",
    "        for i in grossli:\n",
    "            try:\n",
    "                grosses.append(cash_str_to_int(i.select(\".money\")[0].text))\n",
    "            except IndexError:\n",
    "                grosses.append(None)\n",
    "        try:\n",
    "            genres = list(currysoup.select(\".a-section.a-spacing-none.mojo-summary-values.mojo-hidden-from-mobile\")[0])[6].find_all(\"span\")[1].text.split()\n",
    "        except IndexError:\n",
    "            genres = []\n",
    "        movie_dict[link[\"href\"]] = {\"domestic\":grosses[0],\n",
    "                                    \"international\":grosses[1],\n",
    "                                    \"worldwide\":grosses[2],\n",
    "                                    \"budget\":budget,\n",
    "                                    \"genres\":genres,\n",
    "                                    \"title\":title\n",
    "                                   }\n",
    "        print(movie_dict[link[\"href\"]])\n",
    "        #uncomment the below to see only one pull\n",
    "        #return(movie_dict)\n",
    "    return movie_dict\n",
    "    \n",
    "    "
   ]
  },
  {
   "cell_type": "code",
   "execution_count": null,
   "metadata": {},
   "outputs": [],
   "source": [
    "links_2019 = get_links(2019)\n",
    "movie_dict_2019 = make_movie_dict(links_2019)"
   ]
  },
  {
   "cell_type": "code",
   "execution_count": null,
   "metadata": {},
   "outputs": [],
   "source": [
    "bom_df_2019 = pd.DataFrame.from_dict(movie_dict_2019,orient=\"index\")\n",
    "bom_df_2019.head()"
   ]
  },
  {
   "cell_type": "code",
   "execution_count": null,
   "metadata": {},
   "outputs": [],
   "source": [
    "bom_df_2019.to_csv(\"zippedData/bom-budget-and-genres-2019.csv\")"
   ]
  }
 ],
 "metadata": {
  "kernelspec": {
   "display_name": "Python 3",
   "language": "python",
   "name": "python3"
  },
  "language_info": {
   "codemirror_mode": {
    "name": "ipython",
    "version": 3
   },
   "file_extension": ".py",
   "mimetype": "text/x-python",
   "name": "python",
   "nbconvert_exporter": "python",
   "pygments_lexer": "ipython3",
   "version": "3.7.6"
  }
 },
 "nbformat": 4,
 "nbformat_minor": 4
}
