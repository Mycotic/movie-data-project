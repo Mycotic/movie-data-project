{
 "cells": [
  {
   "cell_type": "code",
   "execution_count": 1,
   "metadata": {},
   "outputs": [],
   "source": [
    "import requests\n",
    "import sys\n",
    "import numpy as np\n",
    "import time\n",
    "import pandas as pd\n",
    "from bs4 import BeautifulSoup\n",
    "#time.sleep(1)"
   ]
  },
  {
   "cell_type": "code",
   "execution_count": 2,
   "metadata": {},
   "outputs": [],
   "source": [
    "def get_links(year):\n",
    "    \"\"\"returns a list of link suffixes that connect to every movie in the\n",
    "    boxofficemojo page for the given year\"\"\"\n",
    "    page = requests.get(\"https://www.boxofficemojo.com/year/{}/\".format(year))\n",
    "    soup = BeautifulSoup(page.content, 'html.parser')\n",
    "    if page.status_code >=400:\n",
    "        return [page.status_code,\"https://www.boxofficemojo.com/year/{}/\".format(year)]\n",
    "    links = soup.select(\".a-text-left.mojo-field-type-release.mojo-cell-wide a\")\n",
    "    return links\n"
   ]
  },
  {
   "cell_type": "code",
   "execution_count": 3,
   "metadata": {},
   "outputs": [],
   "source": [
    "def cash_str_to_int(string):\n",
    "    #takes string containing a number with a symbol at the front and returns the int\n",
    "    return int(string[1:].replace(\",\",\"\"))"
   ]
  },
  {
   "cell_type": "code",
   "execution_count": 16,
   "metadata": {},
   "outputs": [],
   "source": [
    "def make_movie_dict(links):\n",
    "    \"\"\"accepts a list of link suffixes and returns a dictionary that\n",
    "    has a key for each link. The value of each item is also a dictionary\n",
    "    containing keys\n",
    "                    domestic, international, worldwide, budget, genres, and title,\n",
    "    with types      float     float          float      float   list[strs]   str\n",
    "    \n",
    "    if an int is missing its replaced with none and if genres is missing it is\n",
    "    replaced with an empty list\n",
    "    \"\"\"\n",
    "    movie_dict = {}\n",
    "    for link in links:\n",
    "        time.sleep(np.random.random())\n",
    "        current = requests.get(\"https://www.boxofficemojo.com\" + link[\"href\"])\n",
    "        currysoup = BeautifulSoup(current.content, \"html.parser\")\n",
    "        title = currysoup.find(\"h1\").text\n",
    "        print(\"scraping \", title)\n",
    "        try:\n",
    "            budget = cash_str_to_int(currysoup.find(text=\"Budget\").next_element.text)\n",
    "        except AttributeError:\n",
    "            budget = None\n",
    "        grossli = currysoup.select(\".a-section.a-spacing-none.mojo-performance-summary-table .a-section.a-spacing-none\")\n",
    "        grosses = []\n",
    "        for i in grossli:\n",
    "            try:\n",
    "                grosses.append(cash_str_to_int(i.select(\".money\")[0].text))\n",
    "            except IndexError:\n",
    "                grosses.append(None)\n",
    "        try:\n",
    "            genres = currysoup.find(text = \"Genres\").next_element.text.split()##[1].text.split()\n",
    "            print(genres)              \n",
    "        except NoneType:\n",
    "            genres = []\n",
    "        movie_dict[link[\"href\"]] = {\"domestic\":grosses[0],\n",
    "                                    \"international\":grosses[1],\n",
    "                                    \"worldwide\":grosses[2],\n",
    "                                    \"budget\":budget,\n",
    "                                    \"genres\":genres,\n",
    "                                    \"title\":title\n",
    "                                   }\n",
    "        print(movie_dict[link[\"href\"]])\n",
    "        #uncomment the below to see only one pull\n",
    "        #return(movie_dict)\n",
    "    return movie_dict\n",
    "    \n",
    "    "
   ]
  },
  {
   "cell_type": "code",
   "execution_count": null,
   "metadata": {},
   "outputs": [],
   "source": [
    "movie_dict = {}\n",
    "for year in range(1977,2020):\n",
    "    current_links = get_links(year)\n",
    "    movie_dict[year] = make_movie_dict(current_links)\n",
    "    "
   ]
  },
  {
   "cell_type": "code",
   "execution_count": null,
   "metadata": {},
   "outputs": [
    {
     "name": "stdout",
     "output_type": "stream",
     "text": [
      "scraping  Avengers: Endgame\n",
      "['Action', 'Adventure', 'Drama', 'Sci-Fi']\n",
      "{'domestic': 858373000, 'international': 1939427564, 'worldwide': 2797800564, 'budget': 356000000, 'genres': ['Action', 'Adventure', 'Drama', 'Sci-Fi'], 'title': 'Avengers: Endgame'}\n",
      "scraping  The Lion King\n",
      "['Adventure', 'Animation', 'Drama', 'Family', 'Musical']\n",
      "{'domestic': 543638043, 'international': 1113305351, 'worldwide': 1656943394, 'budget': 260000000, 'genres': ['Adventure', 'Animation', 'Drama', 'Family', 'Musical'], 'title': 'The Lion King'}\n",
      "scraping  Toy Story 4\n",
      "['Adventure', 'Animation', 'Comedy', 'Family', 'Fantasy']\n",
      "{'domestic': 434038008, 'international': 639356585, 'worldwide': 1073394593, 'budget': 200000000, 'genres': ['Adventure', 'Animation', 'Comedy', 'Family', 'Fantasy'], 'title': 'Toy Story 4'}\n",
      "scraping  Frozen II\n",
      "['Adventure', 'Animation', 'Comedy', 'Family', 'Fantasy', 'Musical']\n",
      "{'domestic': 477373578, 'international': 972653355, 'worldwide': 1450026933, 'budget': 150000000, 'genres': ['Adventure', 'Animation', 'Comedy', 'Family', 'Fantasy', 'Musical'], 'title': 'Frozen II'}\n",
      "scraping  Captain Marvel\n",
      "['Action', 'Adventure', 'Sci-Fi']\n",
      "{'domestic': 426829839, 'international': 701444955, 'worldwide': 1128274794, 'budget': 160000000, 'genres': ['Action', 'Adventure', 'Sci-Fi'], 'title': 'Captain Marvel'}\n",
      "scraping  Star Wars: The Rise of Skywalker\n",
      "['Action', 'Adventure', 'Fantasy', 'Sci-Fi']\n",
      "{'domestic': 515202542, 'international': 558941706, 'worldwide': 1074144248, 'budget': 275000000, 'genres': ['Action', 'Adventure', 'Fantasy', 'Sci-Fi'], 'title': 'Star Wars: The Rise of Skywalker'}\n",
      "scraping  Spider-Man: Far from Home\n",
      "['Action', 'Adventure', 'Sci-Fi']\n",
      "{'domestic': 390532085, 'international': 741395911, 'worldwide': 1131927996, 'budget': 160000000, 'genres': ['Action', 'Adventure', 'Sci-Fi'], 'title': 'Spider-Man: Far from Home'}\n",
      "scraping  Aladdin\n",
      "['Adventure', 'Family', 'Fantasy', 'Musical', 'Romance']\n",
      "{'domestic': 355559216, 'international': 695134737, 'worldwide': 1050693953, 'budget': 183000000, 'genres': ['Adventure', 'Family', 'Fantasy', 'Musical', 'Romance'], 'title': 'Aladdin'}\n",
      "scraping  Joker\n",
      "['Crime', 'Drama', 'Thriller']\n",
      "{'domestic': 335451311, 'international': 738800000, 'worldwide': 1074251311, 'budget': 55000000, 'genres': ['Crime', 'Drama', 'Thriller'], 'title': 'Joker'}\n",
      "scraping  It Chapter Two\n",
      "['Drama', 'Fantasy', 'Horror']\n",
      "{'domestic': 211593228, 'international': 261500000, 'worldwide': 473093228, 'budget': 79000000, 'genres': ['Drama', 'Fantasy', 'Horror'], 'title': 'It Chapter Two'}\n",
      "scraping  Jumanji: The Next Level\n",
      "['Action', 'Adventure', 'Comedy', 'Fantasy']\n",
      "{'domestic': 316831246, 'international': 479744747, 'worldwide': 796575993, 'budget': 125000000, 'genres': ['Action', 'Adventure', 'Comedy', 'Fantasy'], 'title': 'Jumanji: The Next Level'}\n",
      "scraping  Us\n",
      "['Horror', 'Mystery', 'Thriller']\n",
      "{'domestic': 175084580, 'international': 80100000, 'worldwide': 255184580, 'budget': 20000000, 'genres': ['Horror', 'Mystery', 'Thriller'], 'title': 'Us'}\n",
      "scraping  Fast & Furious Presents: Hobbs & Shaw\n",
      "['Action', 'Adventure', 'Thriller']\n",
      "{'domestic': 173956935, 'international': 585100000, 'worldwide': 759056935, 'budget': 200000000, 'genres': ['Action', 'Adventure', 'Thriller'], 'title': 'Fast & Furious Presents: Hobbs & Shaw'}\n"
     ]
    }
   ],
   "source": [
    "links_2019 = get_links(2019)\n",
    "movie_dict_2019 = make_movie_dict(links_2019)"
   ]
  },
  {
   "cell_type": "code",
   "execution_count": 13,
   "metadata": {},
   "outputs": [
    {
     "ename": "NameError",
     "evalue": "name 'movie_dict_2019' is not defined",
     "output_type": "error",
     "traceback": [
      "\u001b[0;31m---------------------------------------------------------------------------\u001b[0m",
      "\u001b[0;31mNameError\u001b[0m                                 Traceback (most recent call last)",
      "\u001b[0;32m<ipython-input-13-0555c98f9383>\u001b[0m in \u001b[0;36m<module>\u001b[0;34m\u001b[0m\n\u001b[0;32m----> 1\u001b[0;31m \u001b[0mbom_df_2019\u001b[0m \u001b[0;34m=\u001b[0m \u001b[0mpd\u001b[0m\u001b[0;34m.\u001b[0m\u001b[0mDataFrame\u001b[0m\u001b[0;34m.\u001b[0m\u001b[0mfrom_dict\u001b[0m\u001b[0;34m(\u001b[0m\u001b[0mmovie_dict_2019\u001b[0m\u001b[0;34m,\u001b[0m\u001b[0morient\u001b[0m\u001b[0;34m=\u001b[0m\u001b[0;34m\"index\"\u001b[0m\u001b[0;34m)\u001b[0m\u001b[0;34m\u001b[0m\u001b[0;34m\u001b[0m\u001b[0m\n\u001b[0m\u001b[1;32m      2\u001b[0m \u001b[0mbom_df_2019\u001b[0m\u001b[0;34m.\u001b[0m\u001b[0mhead\u001b[0m\u001b[0;34m(\u001b[0m\u001b[0;34m)\u001b[0m\u001b[0;34m\u001b[0m\u001b[0;34m\u001b[0m\u001b[0m\n",
      "\u001b[0;31mNameError\u001b[0m: name 'movie_dict_2019' is not defined"
     ]
    }
   ],
   "source": [
    "bom_df_2019 = pd.DataFrame.from_dict(movie_dict_2019,orient=\"index\")\n",
    "bom_df_2019.head()"
   ]
  },
  {
   "cell_type": "code",
   "execution_count": null,
   "metadata": {},
   "outputs": [],
   "source": [
    "bom_df_2019.to_csv(\"zippedData/bom-budget-and-genres-2019.csv\")"
   ]
  },
  {
   "cell_type": "code",
   "execution_count": 14,
   "metadata": {},
   "outputs": [
    {
     "ename": "NameError",
     "evalue": "name 'movie_dict_2019' is not defined",
     "output_type": "error",
     "traceback": [
      "\u001b[0;31m---------------------------------------------------------------------------\u001b[0m",
      "\u001b[0;31mNameError\u001b[0m                                 Traceback (most recent call last)",
      "\u001b[0;32m<ipython-input-14-98b1777e16fc>\u001b[0m in \u001b[0;36m<module>\u001b[0;34m\u001b[0m\n\u001b[0;32m----> 1\u001b[0;31m \u001b[0mmovie_dict_2019\u001b[0m\u001b[0;34m\u001b[0m\u001b[0;34m\u001b[0m\u001b[0m\n\u001b[0m",
      "\u001b[0;31mNameError\u001b[0m: name 'movie_dict_2019' is not defined"
     ]
    }
   ],
   "source": [
    "movie_dict_2019"
   ]
  },
  {
   "cell_type": "code",
   "execution_count": null,
   "metadata": {},
   "outputs": [],
   "source": []
  }
 ],
 "metadata": {
  "kernelspec": {
   "display_name": "Python 3",
   "language": "python",
   "name": "python3"
  },
  "language_info": {
   "codemirror_mode": {
    "name": "ipython",
    "version": 3
   },
   "file_extension": ".py",
   "mimetype": "text/x-python",
   "name": "python",
   "nbconvert_exporter": "python",
   "pygments_lexer": "ipython3",
   "version": "3.7.6"
  }
 },
 "nbformat": 4,
 "nbformat_minor": 4
}
